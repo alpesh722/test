{
 "cells": [
  {
   "cell_type": "code",
   "execution_count": 1,
   "id": "a92fa827-6f23-4998-a6e6-b4ac8833b281",
   "metadata": {},
   "outputs": [],
   "source": [
    "import configparser"
   ]
  },
  {
   "cell_type": "code",
   "execution_count": 2,
   "id": "fec07ccc-c12a-42d7-a6c4-7910eb3136c1",
   "metadata": {},
   "outputs": [],
   "source": [
    "config_ini = configparser.ConfigParser()"
   ]
  },
  {
   "cell_type": "code",
   "execution_count": 8,
   "id": "eb2dba21-006d-4ee8-965f-12de32f1fb81",
   "metadata": {},
   "outputs": [
    {
     "data": {
      "text/plain": [
       "['config_ini.ini']"
      ]
     },
     "execution_count": 8,
     "metadata": {},
     "output_type": "execute_result"
    }
   ],
   "source": [
    "config_ini.read('config_ini.ini')"
   ]
  },
  {
   "cell_type": "code",
   "execution_count": 11,
   "id": "66fbc332-6db3-4c2f-b97d-cc483fad88a8",
   "metadata": {},
   "outputs": [
    {
     "data": {
      "text/plain": [
       "'192.168.8.214'"
      ]
     },
     "execution_count": 11,
     "metadata": {},
     "output_type": "execute_result"
    }
   ],
   "source": [
    "config_ini['system_info']['sled1_idrac_ip']"
   ]
  },
  {
   "cell_type": "code",
   "execution_count": 12,
   "id": "4df83edc-0182-4349-9436-df9c231480e8",
   "metadata": {},
   "outputs": [
    {
     "data": {
      "text/plain": [
       "['system_info', 'witness_info', 'cm_info']"
      ]
     },
     "execution_count": 12,
     "metadata": {},
     "output_type": "execute_result"
    }
   ],
   "source": [
    "config_ini.sections()"
   ]
  },
  {
   "cell_type": "code",
   "execution_count": 16,
   "id": "6f402796-b386-411a-8f15-eddf5715533c",
   "metadata": {},
   "outputs": [
    {
     "data": {
      "text/plain": [
       "'linux'"
      ]
     },
     "execution_count": 16,
     "metadata": {},
     "output_type": "execute_result"
    }
   ],
   "source": [
    "config_ini.get('witness_info','os_type')"
   ]
  },
  {
   "cell_type": "code",
   "execution_count": 27,
   "id": "a74fdc8b-46ef-4ab7-a131-ac2f7b5142ac",
   "metadata": {},
   "outputs": [
    {
     "data": {
      "text/plain": [
       "'A configuration file consists of sections, each led by a [section] header, followed by key/value entries separated by a specific string (= or : by default [1]). \\nBy default, section names are case sensitive but keys are not [1]. \\nLeading and trailing whitespace is removed from keys and values. \\nValues can be omitted if the parser is configured to allow it [1], in which case the key/value delimiter may also be left out. \\nValues can also span multiple lines, as long as they are indented deeper than the first line of the value. \\nDepending on the parser’s mode, blank lines may be treated as parts of multiline values or ignored.\\n\\nBy default, a valid section name can be any string that does not contain ‘\\n’.'"
      ]
     },
     "execution_count": 27,
     "metadata": {},
     "output_type": "execute_result"
    }
   ],
   "source": [
    "\"\"\"A configuration file consists of sections, each led by a [section] header, followed by key/value entries separated by a specific string (= or : by default [1]). \n",
    "By default, section names are case sensitive but keys are not [1]. \n",
    "Leading and trailing whitespace is removed from keys and values. \n",
    "Values can be omitted if the parser is configured to allow it [1], in which case the key/value delimiter may also be left out. \n",
    "Values can also span multiple lines, as long as they are indented deeper than the first line of the value. \n",
    "Depending on the parser’s mode, blank lines may be treated as parts of multiline values or ignored.\n",
    "\n",
    "By default, a valid section name can be any string that does not contain ‘\\n’.\"\"\""
   ]
  },
  {
   "cell_type": "code",
   "execution_count": 28,
   "id": "6cc6803f-24af-4160-aa83-0fd4d267c289",
   "metadata": {},
   "outputs": [
    {
     "data": {
      "text/plain": [
       "\"\\nPlain text: You can keep configuration files as plain text files that contain settings in the form of key-value pairs, separated by a delimiter, such as a colon or an equals sign. \\n            These files can be edited using a text editor.\\n\\nXML: Extensible Markup Language (XML) is a widely used format for storing structured data and is often used for configuration files. \\n     XML files use a set of tags to define the structure and content of the data and can be edited using a text editor or specialized XML editing software.\\n\\nINI: INI files are a type of configuration file commonly used on Windows systems. \\n     They consist of sections, each of which contains a set of key-value pairs that define the configuration settings for that section. \\n     INI files can be edited using a text editor or specialized configuration tool.\\n\\nJSON: JavaScript Object Notation (JSON) is a lightweight data-interchange format often used for storing data in a structured manner. \\n      JSON files can be used as configuration files and edited using a text editor or specialized JSON editor.\\n\\nYAML: YAML Ain't Markup Language is a human-readable data serialization format often used for configuration files in Linux systems. \\n      YAML files are simple text files that use a set of indentation-based rules to define the structure of the data. \\n      They can be edited using a text editor.\\n\""
      ]
     },
     "execution_count": 28,
     "metadata": {},
     "output_type": "execute_result"
    }
   ],
   "source": [
    "\"\"\"\n",
    "Plain text: You can keep configuration files as plain text files that contain settings in the form of key-value pairs, separated by a delimiter, such as a colon or an equals sign. \n",
    "            These files can be edited using a text editor.\n",
    "\n",
    "XML: Extensible Markup Language (XML) is a widely used format for storing structured data and is often used for configuration files. \n",
    "     XML files use a set of tags to define the structure and content of the data and can be edited using a text editor or specialized XML editing software.\n",
    "\n",
    "INI: INI files are a type of configuration file commonly used on Windows systems. \n",
    "     They consist of sections, each of which contains a set of key-value pairs that define the configuration settings for that section. \n",
    "     INI files can be edited using a text editor or specialized configuration tool.\n",
    "\n",
    "JSON: JavaScript Object Notation (JSON) is a lightweight data-interchange format often used for storing data in a structured manner. \n",
    "      JSON files can be used as configuration files and edited using a text editor or specialized JSON editor.\n",
    "\n",
    "YAML: YAML Ain't Markup Language is a human-readable data serialization format often used for configuration files in Linux systems. \n",
    "      YAML files are simple text files that use a set of indentation-based rules to define the structure of the data. \n",
    "      They can be edited using a text editor.\n",
    "\"\"\""
   ]
  },
  {
   "cell_type": "code",
   "execution_count": 29,
   "id": "b17828cb-ff5b-4f61-87dd-73e06522041e",
   "metadata": {},
   "outputs": [
    {
     "ename": "ModuleNotFoundError",
     "evalue": "No module named 'wininfparser'",
     "output_type": "error",
     "traceback": [
      "\u001b[1;31m---------------------------------------------------------------------------\u001b[0m",
      "\u001b[1;31mModuleNotFoundError\u001b[0m                       Traceback (most recent call last)",
      "Cell \u001b[1;32mIn[29], line 1\u001b[0m\n\u001b[1;32m----> 1\u001b[0m \u001b[38;5;28;01mfrom\u001b[39;00m \u001b[38;5;21;01mwininfparser\u001b[39;00m \u001b[38;5;28;01mimport\u001b[39;00m WinINF, INFsection\n",
      "\u001b[1;31mModuleNotFoundError\u001b[0m: No module named 'wininfparser'"
     ]
    }
   ],
   "source": [
    "from wininfparser import WinINF, INFsection"
   ]
  },
  {
   "cell_type": "code",
   "execution_count": null,
   "id": "f374c132-a4cd-45a1-8398-26e4c3fb03ab",
   "metadata": {},
   "outputs": [],
   "source": []
  }
 ],
 "metadata": {
  "kernelspec": {
   "display_name": "Python 3 (ipykernel)",
   "language": "python",
   "name": "python3"
  },
  "language_info": {
   "codemirror_mode": {
    "name": "ipython",
    "version": 3
   },
   "file_extension": ".py",
   "mimetype": "text/x-python",
   "name": "python",
   "nbconvert_exporter": "python",
   "pygments_lexer": "ipython3",
   "version": "3.10.15"
  }
 },
 "nbformat": 4,
 "nbformat_minor": 5
}
